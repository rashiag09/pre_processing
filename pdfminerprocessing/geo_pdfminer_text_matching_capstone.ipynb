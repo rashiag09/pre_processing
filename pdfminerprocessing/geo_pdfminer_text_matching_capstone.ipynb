{
  "nbformat": 4,
  "nbformat_minor": 0,
  "metadata": {
    "colab": {
      "provenance": []
    },
    "kernelspec": {
      "name": "python3",
      "display_name": "Python 3"
    },
    "language_info": {
      "name": "python"
    }
  },
  "cells": [
    {
      "cell_type": "code",
      "execution_count": null,
      "metadata": {
        "colab": {
          "base_uri": "https://localhost:8080/"
        },
        "id": "0yzn3kWlROh4",
        "outputId": "cdfa5652-751b-4d7d-886e-da16ecc9e21d"
      },
      "outputs": [
        {
          "output_type": "stream",
          "name": "stdout",
          "text": [
            "Collecting pdfminer\n",
            "  Downloading pdfminer-20191125.tar.gz (4.2 MB)\n",
            "\u001b[?25l     \u001b[90m━━━━━━━━━━━━━━━━━━━━━━━━━━━━━━━━━━━━━━━━\u001b[0m \u001b[32m0.0/4.2 MB\u001b[0m \u001b[31m?\u001b[0m eta \u001b[36m-:--:--\u001b[0m\r\u001b[2K     \u001b[91m╸\u001b[0m\u001b[90m━━━━━━━━━━━━━━━━━━━━━━━━━━━━━━━━━━━━━━━\u001b[0m \u001b[32m0.1/4.2 MB\u001b[0m \u001b[31m2.5 MB/s\u001b[0m eta \u001b[36m0:00:02\u001b[0m\r\u001b[2K     \u001b[91m━━━━━━\u001b[0m\u001b[91m╸\u001b[0m\u001b[90m━━━━━━━━━━━━━━━━━━━━━━━━━━━━━━━━━\u001b[0m \u001b[32m0.7/4.2 MB\u001b[0m \u001b[31m11.1 MB/s\u001b[0m eta \u001b[36m0:00:01\u001b[0m\r\u001b[2K     \u001b[91m━━━━━━━━━━━━━━━━━━━━━━━━━━━━━━━━━━━━━━━\u001b[0m\u001b[91m╸\u001b[0m \u001b[32m4.2/4.2 MB\u001b[0m \u001b[31m41.1 MB/s\u001b[0m eta \u001b[36m0:00:01\u001b[0m\r\u001b[2K     \u001b[90m━━━━━━━━━━━━━━━━━━━━━━━━━━━━━━━━━━━━━━━━\u001b[0m \u001b[32m4.2/4.2 MB\u001b[0m \u001b[31m32.2 MB/s\u001b[0m eta \u001b[36m0:00:00\u001b[0m\n",
            "\u001b[?25h  Preparing metadata (setup.py) ... \u001b[?25l\u001b[?25hdone\n",
            "Collecting pycryptodome (from pdfminer)\n",
            "  Downloading pycryptodome-3.19.0-cp35-abi3-manylinux_2_17_x86_64.manylinux2014_x86_64.whl (2.1 MB)\n",
            "\u001b[2K     \u001b[90m━━━━━━━━━━━━━━━━━━━━━━━━━━━━━━━━━━━━━━━━\u001b[0m \u001b[32m2.1/2.1 MB\u001b[0m \u001b[31m83.7 MB/s\u001b[0m eta \u001b[36m0:00:00\u001b[0m\n",
            "\u001b[?25hBuilding wheels for collected packages: pdfminer\n",
            "  Building wheel for pdfminer (setup.py) ... \u001b[?25l\u001b[?25hdone\n",
            "  Created wheel for pdfminer: filename=pdfminer-20191125-py3-none-any.whl size=6140061 sha256=482c1f2e7bdade8045c45c33ea3fb977060ca713aa07a52f136e8ca21cce30e7\n",
            "  Stored in directory: /root/.cache/pip/wheels/4e/c1/68/f7bd0a8f514661f76b5cbe3b5f76e0033d79f1296012cbbf72\n",
            "Successfully built pdfminer\n",
            "Installing collected packages: pycryptodome, pdfminer\n",
            "Successfully installed pdfminer-20191125 pycryptodome-3.19.0\n",
            "Collecting PyMuPDF\n",
            "  Downloading PyMuPDF-1.23.4-cp310-none-manylinux2014_x86_64.whl (4.3 MB)\n",
            "\u001b[2K     \u001b[90m━━━━━━━━━━━━━━━━━━━━━━━━━━━━━━━━━━━━━━━━\u001b[0m \u001b[32m4.3/4.3 MB\u001b[0m \u001b[31m31.6 MB/s\u001b[0m eta \u001b[36m0:00:00\u001b[0m\n",
            "\u001b[?25hCollecting PyMuPDFb==1.23.3 (from PyMuPDF)\n",
            "  Downloading PyMuPDFb-1.23.3-py3-none-manylinux2014_x86_64.manylinux_2_17_x86_64.whl (30.6 MB)\n",
            "\u001b[2K     \u001b[90m━━━━━━━━━━━━━━━━━━━━━━━━━━━━━━━━━━━━━━━━\u001b[0m \u001b[32m30.6/30.6 MB\u001b[0m \u001b[31m48.7 MB/s\u001b[0m eta \u001b[36m0:00:00\u001b[0m\n",
            "\u001b[?25hInstalling collected packages: PyMuPDFb, PyMuPDF\n",
            "Successfully installed PyMuPDF-1.23.4 PyMuPDFb-1.23.3\n"
          ]
        }
      ],
      "source": [
        "!pip install pdfminer\n",
        "!pip install PyMuPDF"
      ]
    },
    {
      "cell_type": "code",
      "source": [
        "from google.colab import drive\n",
        "drive.mount('/content/drive')\n",
        "import json, pickle\n",
        "import pandas as pd"
      ],
      "metadata": {
        "colab": {
          "base_uri": "https://localhost:8080/"
        },
        "id": "ij7xd3X4SNp6",
        "outputId": "392e041e-5c96-4241-d782-e8b2b7af45d7"
      },
      "execution_count": null,
      "outputs": [
        {
          "output_type": "stream",
          "name": "stdout",
          "text": [
            "Mounted at /content/drive\n"
          ]
        }
      ]
    },
    {
      "cell_type": "code",
      "source": [
        "import glob, sys, fitz\n",
        "import tqdm\n",
        "import os\n",
        "import io\n",
        "from pdfminer.pdfdocument import PDFDocument\n",
        "from pdfminer.pdfpage import PDFPage\n",
        "from pdfminer.pdfparser import PDFParser\n",
        "from pdfminer.pdfinterp import PDFResourceManager, PDFPageInterpreter\n",
        "from pdfminer.converter import PDFPageAggregator\n",
        "from pdfminer.layout import LAParams, LTTextBoxHorizontal,LTTextBox, LTFigure, LTImage\n",
        "import pandas as pd\n",
        "import numpy as np\n",
        "import re\n",
        "import json\n",
        "import cv2"
      ],
      "metadata": {
        "id": "pKSi6zpJRQcM"
      },
      "execution_count": null,
      "outputs": []
    },
    {
      "cell_type": "code",
      "source": [
        "def get_bbox(sizeRatioW, sizeRatioH, pageW, pageH, bbox):\n",
        "    return int(bbox[0] * sizeRatioW), int(pageH - bbox[1] * sizeRatioH),  int(bbox[2] * sizeRatioW), int(pageH - bbox[3] * sizeRatioH)\n",
        "\n",
        "def pdftoimg(filepath,filename):\n",
        "    doc = fitz.open(filepath)\n",
        "    i = 0\n",
        "    for page in doc:\n",
        "        i += 1\n",
        "        pix = page.get_pixmap()\n",
        "#         pdfname = file.split('.')[0].split('\\\\')[-1]\n",
        "        file = \"/content/drive/MyDrive/data/pdfminer_processing/image/\"+filename\n",
        "        pix.save(\"{}_page-{}.png\".format(file, page.number))\n",
        "#     self.total_page = i"
      ],
      "metadata": {
        "id": "7sQmzb4ARu_z"
      },
      "execution_count": null,
      "outputs": []
    },
    {
      "cell_type": "code",
      "source": [
        "import os\n",
        "file_path = \"/content/drive/MyDrive/annotated_fold/\"\n",
        "file_list = os.listdir(file_path)\n",
        "\n",
        "# imgFilePath = \"C:\\\\Users\\\\hsbbs\\\\Desktop\\\\form2pdfvqa\\\\images\\\\PMC9450047_page-1.png\""
      ],
      "metadata": {
        "id": "lK2KOhmWRraf"
      },
      "execution_count": null,
      "outputs": []
    },
    {
      "cell_type": "code",
      "source": [
        "len(file_list)"
      ],
      "metadata": {
        "colab": {
          "base_uri": "https://localhost:8080/"
        },
        "id": "VlyAQiT4TfTu",
        "outputId": "cfc21e66-32d1-43bc-c49e-aa514ae95d34"
      },
      "execution_count": null,
      "outputs": [
        {
          "output_type": "execute_result",
          "data": {
            "text/plain": [
              "1"
            ]
          },
          "metadata": {},
          "execution_count": 6
        }
      ]
    },
    {
      "cell_type": "code",
      "source": [
        "file_list[0]"
      ],
      "metadata": {
        "id": "8jyV1xadGhT3",
        "colab": {
          "base_uri": "https://localhost:8080/",
          "height": 37
        },
        "outputId": "d60bbc05-e119-4aa1-8920-af5401756499"
      },
      "execution_count": null,
      "outputs": [
        {
          "output_type": "execute_result",
          "data": {
            "text/plain": [
              "'a074284_e16-305_mt finnerty_annual report 2006_14543046.pdf'"
            ],
            "application/vnd.google.colaboratory.intrinsic+json": {
              "type": "string"
            }
          },
          "metadata": {},
          "execution_count": 7
        }
      ]
    },
    {
      "cell_type": "code",
      "source": [
        "count = 0\n",
        "from tqdm import tqdm\n",
        "for todo_file in tqdm(file_list):\n",
        "    count += 1\n",
        "\n",
        "    doc_path = file_path + todo_file\n",
        "    file_name = todo_file[:-4]\n",
        "    pdftoimg(doc_path,file_name)\n",
        "\n",
        "    document = open(doc_path, 'rb')\n",
        "    #Create resource manager\n",
        "    rsrcmgr = PDFResourceManager()\n",
        "    # Set parameters for analysis.\n",
        "    laparams = LAParams()\n",
        "    # Create a PDF page aggregator object.\n",
        "    device = PDFPageAggregator(rsrcmgr, laparams=laparams)\n",
        "    interpreter = PDFPageInterpreter(rsrcmgr, device)\n",
        "    page_num = 0\n",
        "\n",
        "    print(\"Now processing : \", count)\n",
        "    try:\n",
        "     for page in PDFPage.get_pages(document):\n",
        "\n",
        "        json_file = {}\n",
        "        json_file[file_name] = {}\n",
        "\n",
        "        interpreter.process_page(page)\n",
        "        # receive the LTPage object for the page.\n",
        "        layout = device.get_result()\n",
        "        obj_id = 0\n",
        "\n",
        "\n",
        "        imgFilePath = \"/content/drive/MyDrive/data/pdfminer_processing/image/\"+ file_name + '_page-' + str(page_num) +'.png'\n",
        "\n",
        "        img = cv2.imread(imgFilePath, cv2.IMREAD_UNCHANGED)\n",
        "\n",
        "        imgHeight, imgWidth, imgChannels = img.shape\n",
        "\n",
        "        pageW = page.mediabox[2]\n",
        "        pageH = page.mediabox[3]\n",
        "        sizeRatioW =  imgWidth / page.mediabox[2]\n",
        "        sizeRatioH =  imgHeight / page.mediabox[3]\n",
        "\n",
        "        for lt_obj in layout:\n",
        "\n",
        "            #code to annotate the table in the report\n",
        "            if isinstance(lt_obj, LTTextBox):\n",
        "                for obj in lt_obj:\n",
        "                    new_bbox = get_bbox(sizeRatioW, sizeRatioH, pageW, pageH, obj.bbox) #find text box\n",
        "                    cv2.rectangle(img, (new_bbox[0], new_bbox[1]), (new_bbox[2], new_bbox[3]), (0, 0, 255, 255), 1) #red\n",
        "                    if obj_id not in json_file[file_name]:\n",
        "                      json_file[file_name][obj_id] = {}\n",
        "                      json_file[file_name][obj_id]['LTTextBox'] = {}\n",
        "                      json_file[file_name][obj_id]['LTTextBox']['bbox'] = new_bbox\n",
        "                      json_file[file_name][obj_id]['LTTextBox']['text'] = obj.get_text()\n",
        "                      obj_id += 1\n",
        "\n",
        "            elif isinstance(lt_obj, LTFigure):\n",
        "                for obj in lt_obj:\n",
        "                    new_bbox = get_bbox(sizeRatioW, sizeRatioH, pageW, pageH, obj.bbox) #find text box\n",
        "                    cv2.rectangle(img, (new_bbox[0], new_bbox[1]), (new_bbox[2], new_bbox[3]), (0, 255, 0, 255), 1) #green\n",
        "                    if obj_id not in json_file[file_name]:\n",
        "                      json_file[file_name][obj_id] = {}\n",
        "                      json_file[file_name][obj_id]['LTFigure'] = {}\n",
        "                      json_file[file_name][obj_id]['LTFigure']['bbox'] = new_bbox\n",
        "                      obj_id += 1\n",
        "\n",
        "\n",
        "        # save img\n",
        "        img_file = \"/content/drive/MyDrive/data/pdfminer_processing/image2/\" + file_name + '_page-' + str(page_num) +'.png'\n",
        "        cv2.imwrite(img_file, img)\n",
        "\n",
        "        file_loc = \"/content/drive/MyDrive/data/pdfminer_processing/textline/\" + file_name + \"_page-\" + str(page_num) + \".json\"\n",
        "\n",
        "        with open(file_loc,'w') as output:\n",
        "            json_str = json.dumps(json_file)\n",
        "            output.write(json_str)\n",
        "\n",
        "        page_num += 1\n",
        "    except:\n",
        "     print(todo_file)"
      ],
      "metadata": {
        "id": "3EpNecvA0s1g",
        "colab": {
          "base_uri": "https://localhost:8080/"
        },
        "outputId": "477d2cd5-41f5-4372-c76d-bfbec4614ffe"
      },
      "execution_count": null,
      "outputs": [
        {
          "output_type": "stream",
          "name": "stderr",
          "text": [
            "\r  0%|          | 0/1 [00:00<?, ?it/s]"
          ]
        },
        {
          "output_type": "stream",
          "name": "stdout",
          "text": [
            "Now processing :  1\n"
          ]
        },
        {
          "output_type": "stream",
          "name": "stderr",
          "text": [
            "100%|██████████| 1/1 [00:20<00:00, 20.77s/it]\n"
          ]
        }
      ]
    },
    {
      "cell_type": "code",
      "source": [],
      "metadata": {
        "id": "sQUd8mP4URO4"
      },
      "execution_count": null,
      "outputs": []
    },
    {
      "cell_type": "code",
      "source": [],
      "metadata": {
        "id": "7cOz-gVpy8xp"
      },
      "execution_count": null,
      "outputs": []
    }
  ]
}